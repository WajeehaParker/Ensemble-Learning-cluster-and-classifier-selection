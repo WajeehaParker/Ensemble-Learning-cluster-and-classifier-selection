{
 "cells": [
  {
   "cell_type": "code",
   "execution_count": 17,
   "metadata": {},
   "outputs": [],
   "source": [
    "from xgboost import XGBRegressor\n",
    "from xgboost import XGBClassifier\n",
    "from sklearn.model_selection import train_test_split\n",
    "from sklearn.metrics import mean_squared_error, r2_score\n",
    "#from sklearn.preprocessing import OneHotEncoder\n",
    "from sklearn.preprocessing import LabelEncoder\n",
    "#import lightgbm as lgb\n",
    "from sklearn.metrics import accuracy_score\n",
    "import numpy as np\n",
    "import os\n",
    "import pandas as pd"
   ]
  },
  {
   "cell_type": "code",
   "execution_count": 18,
   "metadata": {},
   "outputs": [],
   "source": [
    "def preprocess_dataset(X):\n",
    "    categorical_columns = X.select_dtypes(include=['object']).columns\n",
    "    label_encoders = {}\n",
    "    for col in categorical_columns:\n",
    "        label_encoders[col] = LabelEncoder()\n",
    "        X[col] = label_encoders[col].fit_transform(X[col])\n",
    "    return X, label_encoders"
   ]
  },
  {
   "cell_type": "code",
   "execution_count": 19,
   "metadata": {},
   "outputs": [],
   "source": [
    "#German Credit\n",
    "data = pd.read_csv(r'DTE\\adult-income\\data - Categorical.csv',header=None, skiprows=1)\n",
    "X = data.drop(columns=[14])\n",
    "#X, encoders = preprocess_dataset(X)\n",
    "#label_encoder_y = LabelEncoder()\n",
    "#y = label_encoder_y.fit_transform(data[20])\n",
    "y=data[14]\n",
    "X_train, X_test, y_train, y_test = train_test_split(X, y, test_size=0.2, random_state=42)"
   ]
  },
  {
   "cell_type": "code",
   "execution_count": 20,
   "metadata": {},
   "outputs": [],
   "source": [
    "xgb=XGBClassifier(n_estimators=200,\n",
    "                              n_jobs=4,\n",
    "                              tree_method=\"hist\",\n",
    "                              learning_rate=0.5,\n",
    "                              max_depth=5,\n",
    "                              reg_alpha=0,\n",
    "                              reg_lambda=10,\n",
    "                              scale_pos_weight=1,\n",
    "                              enable_categorical=True)\n",
    "xgb.fit(X_train,y_train)\n",
    "yt = xgb.predict(X_test)"
   ]
  },
  {
   "cell_type": "code",
   "execution_count": 21,
   "metadata": {},
   "outputs": [
    {
     "name": "stdout",
     "output_type": "stream",
     "text": [
      "Accuracy: 0.8713276691575391\n"
     ]
    }
   ],
   "source": [
    "accuracy = accuracy_score(y_test, yt)\n",
    "print(\"Accuracy:\", accuracy)"
   ]
  },
  {
   "cell_type": "code",
   "execution_count": 15,
   "metadata": {},
   "outputs": [
    {
     "name": "stdout",
     "output_type": "stream",
     "text": [
      "Mean Squared Error: 0.09082576920990904\n",
      "R^2 Score: 0.49390709400177\n"
     ]
    }
   ],
   "source": [
    "mse = mean_squared_error(y_test, yt)\n",
    "r2 = r2_score(y_test, yt)\n",
    "print(\"Mean Squared Error:\", mse)\n",
    "print(\"R^2 Score:\", r2)"
   ]
  },
  {
   "cell_type": "code",
   "execution_count": null,
   "metadata": {},
   "outputs": [],
   "source": []
  }
 ],
 "metadata": {
  "kernelspec": {
   "display_name": "Python 3",
   "language": "python",
   "name": "python3"
  },
  "language_info": {
   "codemirror_mode": {
    "name": "ipython",
    "version": 3
   },
   "file_extension": ".py",
   "mimetype": "text/x-python",
   "name": "python",
   "nbconvert_exporter": "python",
   "pygments_lexer": "ipython3",
   "version": "3.12.4"
  }
 },
 "nbformat": 4,
 "nbformat_minor": 2
}
